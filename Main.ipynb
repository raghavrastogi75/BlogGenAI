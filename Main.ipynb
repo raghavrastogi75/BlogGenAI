{
 "cells": [
  {
   "cell_type": "code",
   "execution_count": 1,
   "metadata": {},
   "outputs": [
    {
     "name": "stdout",
     "output_type": "stream",
     "text": [
      "Article content with up to 1024 words saved to ./text_extract/article_content.txt\n"
     ]
    }
   ],
   "source": [
    "import requests\n",
    "from bs4 import BeautifulSoup\n",
    "\n",
    "# URL of the blog article you want to scrape\n",
    "url = 'https://medium.com/@raghavrastogi75/cons-overwhelming-the-pros-to-make-a-decision-consider-the-cost-of-inaction-28b14aad3120'\n",
    "\n",
    "# Specify the path to the directory where you want to save the file\n",
    "# Make sure this directory exists on your system\n",
    "directory_path = './text_extract/'\n",
    "\n",
    "# Specify the filename\n",
    "filename = 'article_content.txt'\n",
    "\n",
    "# Combine the directory path and filename\n",
    "full_path = directory_path + filename\n",
    "\n",
    "# Send a GET request to the article's URL\n",
    "response = requests.get(url)\n",
    "\n",
    "# Check if the request was successful\n",
    "if response.status_code == 200:\n",
    "    # Parse the HTML content of the page\n",
    "    soup = BeautifulSoup(response.text, 'html.parser')\n",
    "    \n",
    "    # Find all paragraph tags. You might need to adjust this selector\n",
    "    # depending on the structure of the webpage.\n",
    "    paragraphs = soup.find_all('p')\n",
    "    \n",
    "    # Extract the text from each paragraph and join them into one string\n",
    "    article_content = ' '.join(paragraph.text for paragraph in paragraphs)\n",
    "    \n",
    "    # Split the content into words and limit to the first 1024 words\n",
    "    words = article_content.split()[:850]\n",
    "    \n",
    "    # Join the limited words back into a string\n",
    "    limited_content = ' '.join(words)\n",
    "    \n",
    "    # Open the file at the specified path in write mode ('w') and write the content\n",
    "    with open(full_path, 'w', encoding='utf-8') as file:\n",
    "        file.write(limited_content)\n",
    "        \n",
    "    print(f'Article content with up to 1024 words saved to {full_path}')\n",
    "else:\n",
    "    print(f'Failed to retrieve the webpage. Status code: {response.status_code}')\n"
   ]
  },
  {
   "cell_type": "code",
   "execution_count": 5,
   "metadata": {},
   "outputs": [
    {
     "name": "stderr",
     "output_type": "stream",
     "text": [
      "No model was supplied, defaulted to sshleifer/distilbart-cnn-12-6 and revision a4f8f3e (https://huggingface.co/sshleifer/distilbart-cnn-12-6).\n",
      "Using a pipeline without specifying a model name and revision in production is not recommended.\n"
     ]
    },
    {
     "name": "stdout",
     "output_type": "stream",
     "text": [
      " There is a segment of people who is a firm believer in intuition . But need we to understand when is it appropriate to decide rationally and when on intuition completely? Intuition works best when you have already made a decision on a similar thing earlier and are faced with another decision . When we are trying to decide based on consequences of our action, things like how would it affect my life if I go abroad, will my life improve eventually if I leave the current job, will it backfire, will I regret this decision, etc., we are only focused on one aspect and missing out another huge factor from this equation . We must rely on our rational capabilities to make a rational decision in these situations . The cost of inaction in many situations would be even more enticing despite the risks of taking a big risk . You are not asking everyone to take a ‘calculated one decision, but a 'Calculated one’ You are the best judge for it for it’s the best\n"
     ]
    }
   ],
   "source": [
    "from transformers import pipeline\n",
    "\n",
    "# Initialize the summarization pipeline\n",
    "summarizer = pipeline(\"summarization\")\n",
    "\n",
    "# Function to read text from a file\n",
    "def read_text_from_file(file_path):\n",
    "    with open(file_path, 'r', encoding='utf-8') as file:\n",
    "        text = file.read()\n",
    "    return text\n",
    "\n",
    "# Function to write summary to a file\n",
    "def write_summary_to_file(summary_text, file_path=\"summary.txt\"):\n",
    "    with open(file_path, 'w', encoding='utf-8') as file:\n",
    "        file.write(summary_text)\n",
    "\n",
    "# Path to your text file\n",
    "file_path = './text_extract/article_content.txt'\n",
    "\n",
    "# Read the text from the file\n",
    "text = read_text_from_file(file_path)\n",
    "\n",
    "# Generate summary. You may need to adjust the max_length and min_length according to your needs\n",
    "summary = summarizer(text, max_length=300, min_length=200, do_sample=False)\n",
    "\n",
    "# Print the summary\n",
    "print(summary[0]['summary_text'])\n",
    "\n",
    "# Optional: Write the summary to a file\n",
    "write_summary_to_file(summary[0]['summary_text'], \"./summary/summary_output.txt\")\n"
   ]
  },
  {
   "cell_type": "code",
   "execution_count": 8,
   "metadata": {},
   "outputs": [
    {
     "ename": "",
     "evalue": "",
     "output_type": "error",
     "traceback": [
      "\u001b[1;31mThe Kernel crashed while executing code in the current cell or a previous cell. \n",
      "\u001b[1;31mPlease review the code in the cell(s) to identify a possible cause of the failure. \n",
      "\u001b[1;31mClick <a href='https://aka.ms/vscodeJupyterKernelCrash'>here</a> for more info. \n",
      "\u001b[1;31mView Jupyter <a href='command:jupyter.viewOutput'>log</a> for further details."
     ]
    }
   ],
   "source": [
    "from transformers import pipeline\n",
    "\n",
    "def generate_image_prompt(text_summary, model_name='EleutherAI/gpt-neo-2.7B', max_length=100, max_new_tokens=None):\n",
    "    \"\"\"\n",
    "    Generates an image prompt from a text summary using a specified transformer model.\n",
    "\n",
    "    Parameters:\n",
    "    - text_summary (str): The text summary to generate an image prompt from.\n",
    "    - model_name (str): Identifier for the pre-trained model on Hugging Face.\n",
    "    - max_length (int): Maximum total length of the input and output (deprecated if max_new_tokens is set).\n",
    "    - max_new_tokens (int): Maximum length of the generated tokens.\n",
    "\n",
    "    Returns:\n",
    "    - str: The generated image prompt.\n",
    "    \"\"\"\n",
    "    # Initialize the text generation pipeline with the specified model\n",
    "    generator = pipeline('text-generation', model=model_name, tokenizer=model_name)\n",
    "\n",
    "    # Generate text based on the summary\n",
    "    generation_kwargs = {\n",
    "        \"max_length\": max_length,\n",
    "        \"num_return_sequences\": 1\n",
    "    }\n",
    "    if max_new_tokens is not None:\n",
    "        # If max_new_tokens is specified, use it and remove max_length from kwargs\n",
    "        generation_kwargs[\"max_new_tokens\"] = max_new_tokens\n",
    "        del generation_kwargs[\"max_length\"]\n",
    "\n",
    "    prompt = generator(f\"Create a vivid image description based on the following summary: {text_summary}\",\n",
    "                       **generation_kwargs)\n",
    "\n",
    "    return prompt[0]['generated_text']\n",
    "\n",
    "\n",
    "# Path to your text file\n",
    "file_path = './summary/summary_output.txt'\n",
    "\n",
    "# Read the text from the file\n",
    "text = read_text_from_file(file_path)\n",
    "\n",
    "# Generate the image prompt\n",
    "prompt = generate_image_prompt(text, max_new_tokens=50)  # Example: limiting generation to 50 new tokens\n",
    "print(\"Generated Image Prompt:\", prompt)"
   ]
  },
  {
   "cell_type": "code",
   "execution_count": null,
   "metadata": {},
   "outputs": [],
   "source": []
  }
 ],
 "metadata": {
  "kernelspec": {
   "display_name": ".venv",
   "language": "python",
   "name": "python3"
  },
  "language_info": {
   "codemirror_mode": {
    "name": "ipython",
    "version": 3
   },
   "file_extension": ".py",
   "mimetype": "text/x-python",
   "name": "python",
   "nbconvert_exporter": "python",
   "pygments_lexer": "ipython3",
   "version": "3.10.11"
  }
 },
 "nbformat": 4,
 "nbformat_minor": 2
}
